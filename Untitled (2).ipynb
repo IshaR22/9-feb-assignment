{
 "cells": [
  {
   "cell_type": "code",
   "execution_count": null,
   "id": "d1a61643-cbe5-4710-a1f6-29894826ebfc",
   "metadata": {},
   "outputs": [],
   "source": [
    "Q1, Create a vehicle class with an init method having instance variables as name_of_vehicle, max_speed\n",
    "and average_of_vehicle."
   ]
  },
  {
   "cell_type": "code",
   "execution_count": 6,
   "id": "bf0f4b07-47e2-4037-ab9a-02cc2639c3fa",
   "metadata": {},
   "outputs": [],
   "source": [
    "class vehicle:\n",
    "    def __init__(self,name_of_vehicle, max_speed,average_of_vehicle):\n",
    "        self.name_of_vehicle=name_of_vehicle\n",
    "        self.max_speed=max_speed\n",
    "        self.average_of_vehicle=average_of_vehicle\n",
    "v1=vehicle(\"toyota\",450,170)\n",
    "car = vehicle(\"Toyota Camry\", 180, 12)"
   ]
  },
  {
   "cell_type": "code",
   "execution_count": null,
   "id": "753c3d37-6e63-41a9-b5e5-194600785a93",
   "metadata": {},
   "outputs": [],
   "source": [
    "Q2. Create a child class car from the vehicle class created in Que 1, which will inherit the vehicle class.\n",
    "Create a method named seating_capacity which takes capacity as an argument and returns the name of\n",
    "the vehicle and its seating capacity."
   ]
  },
  {
   "cell_type": "code",
   "execution_count": 10,
   "id": "a874cf2d-f54d-441e-8d4b-3b780d356b4a",
   "metadata": {},
   "outputs": [
    {
     "name": "stdout",
     "output_type": "stream",
     "text": [
      "Toyota Camry has a seating capacity of 5 people.\n"
     ]
    }
   ],
   "source": [
    "class Car(Vehicle):\n",
    "    def __init__(self, name_of_vehicle, max_speed, average_of_vehicle):\n",
    "        super().__init__(name_of_vehicle, max_speed, average_of_vehicle)\n",
    "\n",
    "    def seating_capacity(self, capacity):\n",
    "        return f\"{self.name_of_vehicle} has a seating capacity of {capacity} people.\"\n",
    "\n",
    "# Example usage\n",
    "car = Car(\"Toyota Camry\", 180, 12)\n",
    "print(car.seating_capacity(5))\n"
   ]
  },
  {
   "cell_type": "code",
   "execution_count": null,
   "id": "19865198-fa16-4320-a45c-d4fd6549d226",
   "metadata": {},
   "outputs": [],
   "source": [
    "Q3. What is multiple inheritance? Write a python code to demonstrate multiple inheritance."
   ]
  },
  {
   "cell_type": "code",
   "execution_count": null,
   "id": "81e7390d-322c-4512-b41b-45f8eae15030",
   "metadata": {},
   "outputs": [],
   "source": [
    "Multiple inheritance is a feature of some object-oriented programming languages,\n",
    "including Python, where a class can inherit attributes and methods from more than one parent class.\n",
    "it means that a subclass can have multiple immediate parent classes, allowing it to inherit behavior from all of them."
   ]
  },
  {
   "cell_type": "code",
   "execution_count": 12,
   "id": "f0b9cd28-7319-4c7e-aa2d-a5b0a9989a9c",
   "metadata": {},
   "outputs": [
    {
     "name": "stdout",
     "output_type": "stream",
     "text": [
      "4\n",
      "its blue\n"
     ]
    }
   ],
   "source": [
    "class shapes():\n",
    "    def angle(self):\n",
    "        pass\n",
    "class rectangle(shapes):\n",
    "    def angle(self):\n",
    "        return \"4\"\n",
    "class triangle(shapes):\n",
    "    def angle(self):\n",
    "        return \"3\"\n",
    "class circle(shapes):\n",
    "    def angle(self):\n",
    "        return \"0\"\n",
    "class Animal:\n",
    "    def angle(self):\n",
    "        pass\n",
    "class color:\n",
    "    def do_task(self):\n",
    "        pass\n",
    "class colorrectangle(rectangle, color):\n",
    "    def do_task(self):\n",
    "        return \"its blue\"\n",
    "\n",
    "class colorcircle(circle, color):\n",
    "    def do_task(self):\n",
    "        return \"its pink!\"\n",
    "\n",
    "obj1= colorrectangle()\n",
    "print(obj1.angle()) \n",
    "print(obj1.do_task())     "
   ]
  },
  {
   "cell_type": "code",
   "execution_count": null,
   "id": "df02b79f-9544-471b-858c-4ce2e88ecab7",
   "metadata": {},
   "outputs": [],
   "source": [
    "Q4. What are getter and setter in python? Create a class and create a getter and a setter method in this\n",
    "class."
   ]
  },
  {
   "cell_type": "code",
   "execution_count": null,
   "id": "fde7c4ef-8236-4035-93c8-53fe100ce908",
   "metadata": {},
   "outputs": [],
   "source": [
    "In Python, getter and setter methods are used to access and modify the private attributes of a class\n",
    "respectively. They are typically used to enforce encapsulation and control access to the attributes of an object.\n",
    "Getter methods are used to retrieve the value of a private attribute.\n",
    "Setter methods are used to modify the value of a private attribute."
   ]
  },
  {
   "cell_type": "code",
   "execution_count": 15,
   "id": "ee2e0204-ba2c-4f80-8837-e314545f02d3",
   "metadata": {},
   "outputs": [
    {
     "name": "stdout",
     "output_type": "stream",
     "text": [
      "Name: Alice\n",
      "Modified Name: Bob\n"
     ]
    }
   ],
   "source": [
    "class Person:\n",
    "    def __init__(self, name):\n",
    "        self._name = name  # Private attribute\n",
    "    def get_name(self):\n",
    "        return self._name\n",
    "    def set_name(self, name):\n",
    "        self._name = name\n",
    "\n",
    "person = Person(\"Alice\")\n",
    "print(\"Name:\", person.get_name())\n",
    "person.set_name(\"Bob\")\n",
    "print(\"Modified Name:\", person.get_name())  \n"
   ]
  },
  {
   "cell_type": "code",
   "execution_count": null,
   "id": "68ef80ce-eeb6-4834-9f67-5c3e9a228418",
   "metadata": {},
   "outputs": [],
   "source": []
  }
 ],
 "metadata": {
  "kernelspec": {
   "display_name": "Python 3 (ipykernel)",
   "language": "python",
   "name": "python3"
  },
  "language_info": {
   "codemirror_mode": {
    "name": "ipython",
    "version": 3
   },
   "file_extension": ".py",
   "mimetype": "text/x-python",
   "name": "python",
   "nbconvert_exporter": "python",
   "pygments_lexer": "ipython3",
   "version": "3.10.8"
  }
 },
 "nbformat": 4,
 "nbformat_minor": 5
}
